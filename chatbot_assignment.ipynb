{
 "cells": [
  {
   "cell_type": "markdown",
   "metadata": {},
   "source": [
    "<img src = \"https://www.bits-pilani.ac.in/Uploads/Campus/BITS_university_logo.gif\">"
   ]
  },
  {
   "cell_type": "markdown",
   "metadata": {},
   "source": [
    "<style>\n",
    "table {\n",
    "  font-family: arial, sans-serif;\n",
    "  border-collapse: collapse;\n",
    "  width: 100%;\n",
    "}\n",
    "\n",
    "td, th {\n",
    "  border: 1px solid #dddddd;\n",
    "  text-align: left;\n",
    "  padding: 8px;\n",
    "}\n",
    "\n",
    "tr:nth-child(even) {\n",
    "  background-color: #dddddd;\n",
    "}\n",
    "</style>\n",
    "\n",
    "<h2>Group No: 106</h2>\n",
    "\n",
    "<table>\n",
    "  <tr>\n",
    "    <th>Full Name</th>\n",
    "    <th>BITS ID</th>\n",
    "  </tr>\n",
    "  <tr>\n",
    "    <td>Varshini M</td>\n",
    "    <td>2021FC04149</td>\n",
    "  </tr>\n",
    "  <tr>\n",
    "    <td>Shah Abhishek Rajesh</td>\n",
    "    <td>2021FC04153</td>\n",
    "  </tr>\n",
    "  <tr>\n",
    "    <td>Ritresh Girdhar</td>\n",
    "    <td>2021FC04145</td>\n",
    "  </tr>\n",
    "    <tr>\n",
    "    <td>Subhi Singh</td>\n",
    "    <td>2021FC04061</td>\n",
    "  </tr>\n",
    "</table>"
   ]
  },
  {
   "cell_type": "markdown",
   "metadata": {},
   "source": [
    "\n",
    "___\n",
    "# Question and Answer Chat Bots"
   ]
  },
  {
   "cell_type": "markdown",
   "metadata": {},
   "source": [
    "----\n",
    "\n",
    "------"
   ]
  },
  {
   "cell_type": "markdown",
   "metadata": {},
   "source": [
    "## Loading the Data\n",
    "\n",
    "We will be working with the Babi Data Set from Facebook Research.\n",
    "\n",
    "Full Details: https://research.fb.com/downloads/babi/\n",
    "\n",
    "- Jason Weston, Antoine Bordes, Sumit Chopra, Tomas Mikolov, Alexander M. Rush,\n",
    "  \"Towards AI-Complete Question Answering: A Set of Prerequisite Toy Tasks\",\n",
    "  http://arxiv.org/abs/1502.05698\n"
   ]
  },
  {
   "cell_type": "markdown",
   "metadata": {},
   "source": [
    "Install required libraries"
   ]
  },
  {
   "cell_type": "code",
   "execution_count": 142,
   "metadata": {},
   "outputs": [
    {
     "name": "stdout",
     "output_type": "stream",
     "text": [
      "Requirement already satisfied: keras in /Users/ritgirdh/opt/anaconda3/lib/python3.9/site-packages (2.11.0)\n",
      "Requirement already satisfied: tensorflow in /Users/ritgirdh/opt/anaconda3/lib/python3.9/site-packages (2.11.1)\n",
      "Requirement already satisfied: astunparse>=1.6.0 in /Users/ritgirdh/opt/anaconda3/lib/python3.9/site-packages (from tensorflow) (1.6.3)\n",
      "Requirement already satisfied: keras<2.12,>=2.11.0 in /Users/ritgirdh/opt/anaconda3/lib/python3.9/site-packages (from tensorflow) (2.11.0)\n",
      "Requirement already satisfied: typing-extensions>=3.6.6 in /Users/ritgirdh/opt/anaconda3/lib/python3.9/site-packages (from tensorflow) (4.5.0)\n",
      "Requirement already satisfied: flatbuffers>=2.0 in /Users/ritgirdh/opt/anaconda3/lib/python3.9/site-packages (from tensorflow) (23.3.3)\n",
      "Requirement already satisfied: protobuf<3.20,>=3.9.2 in /Users/ritgirdh/opt/anaconda3/lib/python3.9/site-packages (from tensorflow) (3.19.6)\n",
      "Requirement already satisfied: h5py>=2.9.0 in /Users/ritgirdh/opt/anaconda3/lib/python3.9/site-packages (from tensorflow) (3.8.0)\n",
      "Requirement already satisfied: google-pasta>=0.1.1 in /Users/ritgirdh/opt/anaconda3/lib/python3.9/site-packages (from tensorflow) (0.2.0)\n",
      "Requirement already satisfied: packaging in /Users/ritgirdh/opt/anaconda3/lib/python3.9/site-packages (from tensorflow) (23.0)\n",
      "Requirement already satisfied: termcolor>=1.1.0 in /Users/ritgirdh/opt/anaconda3/lib/python3.9/site-packages (from tensorflow) (2.2.0)\n",
      "Requirement already satisfied: libclang>=13.0.0 in /Users/ritgirdh/opt/anaconda3/lib/python3.9/site-packages (from tensorflow) (15.0.6.1)\n",
      "Requirement already satisfied: opt-einsum>=2.3.2 in /Users/ritgirdh/opt/anaconda3/lib/python3.9/site-packages (from tensorflow) (3.3.0)\n",
      "Requirement already satisfied: six>=1.12.0 in /Users/ritgirdh/opt/anaconda3/lib/python3.9/site-packages (from tensorflow) (1.16.0)\n",
      "Requirement already satisfied: grpcio<2.0,>=1.24.3 in /Users/ritgirdh/opt/anaconda3/lib/python3.9/site-packages (from tensorflow) (1.51.3)\n",
      "Requirement already satisfied: tensorflow-io-gcs-filesystem>=0.23.1 in /Users/ritgirdh/opt/anaconda3/lib/python3.9/site-packages (from tensorflow) (0.31.0)\n",
      "Requirement already satisfied: setuptools in /Users/ritgirdh/opt/anaconda3/lib/python3.9/site-packages (from tensorflow) (67.6.0)\n",
      "Requirement already satisfied: absl-py>=1.0.0 in /Users/ritgirdh/opt/anaconda3/lib/python3.9/site-packages (from tensorflow) (1.4.0)\n",
      "Requirement already satisfied: numpy>=1.20 in /Users/ritgirdh/opt/anaconda3/lib/python3.9/site-packages (from tensorflow) (1.24.2)\n",
      "Requirement already satisfied: gast<=0.4.0,>=0.2.1 in /Users/ritgirdh/opt/anaconda3/lib/python3.9/site-packages (from tensorflow) (0.4.0)\n",
      "Requirement already satisfied: tensorflow-estimator<2.12,>=2.11.0 in /Users/ritgirdh/opt/anaconda3/lib/python3.9/site-packages (from tensorflow) (2.11.0)\n",
      "Requirement already satisfied: wrapt>=1.11.0 in /Users/ritgirdh/opt/anaconda3/lib/python3.9/site-packages (from tensorflow) (1.15.0)\n",
      "Requirement already satisfied: tensorboard<2.12,>=2.11 in /Users/ritgirdh/opt/anaconda3/lib/python3.9/site-packages (from tensorflow) (2.11.2)\n",
      "Requirement already satisfied: wheel<1.0,>=0.23.0 in /Users/ritgirdh/opt/anaconda3/lib/python3.9/site-packages (from astunparse>=1.6.0->tensorflow) (0.40.0)\n",
      "Requirement already satisfied: markdown>=2.6.8 in /Users/ritgirdh/opt/anaconda3/lib/python3.9/site-packages (from tensorboard<2.12,>=2.11->tensorflow) (3.4.1)\n",
      "Requirement already satisfied: tensorboard-data-server<0.7.0,>=0.6.0 in /Users/ritgirdh/opt/anaconda3/lib/python3.9/site-packages (from tensorboard<2.12,>=2.11->tensorflow) (0.6.1)\n",
      "Requirement already satisfied: google-auth-oauthlib<0.5,>=0.4.1 in /Users/ritgirdh/opt/anaconda3/lib/python3.9/site-packages (from tensorboard<2.12,>=2.11->tensorflow) (0.4.6)\n",
      "Requirement already satisfied: tensorboard-plugin-wit>=1.6.0 in /Users/ritgirdh/opt/anaconda3/lib/python3.9/site-packages (from tensorboard<2.12,>=2.11->tensorflow) (1.8.1)\n",
      "Requirement already satisfied: requests<3,>=2.21.0 in /Users/ritgirdh/opt/anaconda3/lib/python3.9/site-packages (from tensorboard<2.12,>=2.11->tensorflow) (2.28.2)\n",
      "Requirement already satisfied: google-auth<3,>=1.6.3 in /Users/ritgirdh/opt/anaconda3/lib/python3.9/site-packages (from tensorboard<2.12,>=2.11->tensorflow) (2.16.2)\n",
      "Requirement already satisfied: werkzeug>=1.0.1 in /Users/ritgirdh/opt/anaconda3/lib/python3.9/site-packages (from tensorboard<2.12,>=2.11->tensorflow) (2.2.3)\n",
      "Requirement already satisfied: cachetools<6.0,>=2.0.0 in /Users/ritgirdh/opt/anaconda3/lib/python3.9/site-packages (from google-auth<3,>=1.6.3->tensorboard<2.12,>=2.11->tensorflow) (5.3.0)\n",
      "Requirement already satisfied: rsa<5,>=3.1.4 in /Users/ritgirdh/opt/anaconda3/lib/python3.9/site-packages (from google-auth<3,>=1.6.3->tensorboard<2.12,>=2.11->tensorflow) (4.9)\n",
      "Requirement already satisfied: pyasn1-modules>=0.2.1 in /Users/ritgirdh/opt/anaconda3/lib/python3.9/site-packages (from google-auth<3,>=1.6.3->tensorboard<2.12,>=2.11->tensorflow) (0.2.8)\n",
      "Requirement already satisfied: requests-oauthlib>=0.7.0 in /Users/ritgirdh/opt/anaconda3/lib/python3.9/site-packages (from google-auth-oauthlib<0.5,>=0.4.1->tensorboard<2.12,>=2.11->tensorflow) (1.3.1)\n",
      "Requirement already satisfied: importlib-metadata>=4.4 in /Users/ritgirdh/opt/anaconda3/lib/python3.9/site-packages (from markdown>=2.6.8->tensorboard<2.12,>=2.11->tensorflow) (6.1.0)\n",
      "Requirement already satisfied: certifi>=2017.4.17 in /Users/ritgirdh/opt/anaconda3/lib/python3.9/site-packages (from requests<3,>=2.21.0->tensorboard<2.12,>=2.11->tensorflow) (2022.12.7)\n",
      "Requirement already satisfied: idna<4,>=2.5 in /Users/ritgirdh/opt/anaconda3/lib/python3.9/site-packages (from requests<3,>=2.21.0->tensorboard<2.12,>=2.11->tensorflow) (3.4)\n",
      "Requirement already satisfied: urllib3<1.27,>=1.21.1 in /Users/ritgirdh/opt/anaconda3/lib/python3.9/site-packages (from requests<3,>=2.21.0->tensorboard<2.12,>=2.11->tensorflow) (1.26.15)\n",
      "Requirement already satisfied: charset-normalizer<4,>=2 in /Users/ritgirdh/opt/anaconda3/lib/python3.9/site-packages (from requests<3,>=2.21.0->tensorboard<2.12,>=2.11->tensorflow) (3.1.0)\n",
      "Requirement already satisfied: MarkupSafe>=2.1.1 in /Users/ritgirdh/opt/anaconda3/lib/python3.9/site-packages (from werkzeug>=1.0.1->tensorboard<2.12,>=2.11->tensorflow) (2.1.2)\n",
      "Requirement already satisfied: zipp>=0.5 in /Users/ritgirdh/opt/anaconda3/lib/python3.9/site-packages (from importlib-metadata>=4.4->markdown>=2.6.8->tensorboard<2.12,>=2.11->tensorflow) (3.15.0)\n",
      "Requirement already satisfied: pyasn1<0.5.0,>=0.4.6 in /Users/ritgirdh/opt/anaconda3/lib/python3.9/site-packages (from pyasn1-modules>=0.2.1->google-auth<3,>=1.6.3->tensorboard<2.12,>=2.11->tensorflow) (0.4.8)\n",
      "Requirement already satisfied: oauthlib>=3.0.0 in /Users/ritgirdh/opt/anaconda3/lib/python3.9/site-packages (from requests-oauthlib>=0.7.0->google-auth-oauthlib<0.5,>=0.4.1->tensorboard<2.12,>=2.11->tensorflow) (3.2.2)\n",
      "Requirement already satisfied: Keras-Preprocessing in /Users/ritgirdh/opt/anaconda3/lib/python3.9/site-packages (1.1.2)\n",
      "Requirement already satisfied: numpy>=1.9.1 in /Users/ritgirdh/opt/anaconda3/lib/python3.9/site-packages (from Keras-Preprocessing) (1.24.2)\n",
      "Requirement already satisfied: six>=1.9.0 in /Users/ritgirdh/opt/anaconda3/lib/python3.9/site-packages (from Keras-Preprocessing) (1.16.0)\n",
      "Requirement already satisfied: embeddings in /Users/ritgirdh/opt/anaconda3/lib/python3.9/site-packages (0.0.8)\n",
      "Requirement already satisfied: tqdm in /Users/ritgirdh/opt/anaconda3/lib/python3.9/site-packages (from embeddings) (4.62.3)\n",
      "Requirement already satisfied: numpy in /Users/ritgirdh/opt/anaconda3/lib/python3.9/site-packages (from embeddings) (1.24.2)\n",
      "Requirement already satisfied: requests in /Users/ritgirdh/opt/anaconda3/lib/python3.9/site-packages (from embeddings) (2.28.2)\n",
      "Requirement already satisfied: charset-normalizer<4,>=2 in /Users/ritgirdh/opt/anaconda3/lib/python3.9/site-packages (from requests->embeddings) (3.1.0)\n",
      "Requirement already satisfied: certifi>=2017.4.17 in /Users/ritgirdh/opt/anaconda3/lib/python3.9/site-packages (from requests->embeddings) (2022.12.7)\n",
      "Requirement already satisfied: urllib3<1.27,>=1.21.1 in /Users/ritgirdh/opt/anaconda3/lib/python3.9/site-packages (from requests->embeddings) (1.26.15)\n",
      "Requirement already satisfied: idna<4,>=2.5 in /Users/ritgirdh/opt/anaconda3/lib/python3.9/site-packages (from requests->embeddings) (3.4)\n"
     ]
    },
    {
     "name": "stdout",
     "output_type": "stream",
     "text": [
      "Requirement already satisfied: keras-pos-embd in /Users/ritgirdh/opt/anaconda3/lib/python3.9/site-packages (0.13.0)\r\n",
      "Requirement already satisfied: numpy in /Users/ritgirdh/opt/anaconda3/lib/python3.9/site-packages (from keras-pos-embd) (1.24.2)\r\n"
     ]
    }
   ],
   "source": [
    "!pip install keras\n",
    "!pip install tensorflow\n",
    "!pip install Keras-Preprocessing\n",
    "!pip install embeddings\n",
    "!pip install keras-pos-embd"
   ]
  },
  {
   "cell_type": "code",
   "execution_count": 145,
   "metadata": {},
   "outputs": [
    {
     "name": "stdout",
     "output_type": "stream",
     "text": [
      "Name: tensorflow\n",
      "Version: 2.11.1\n",
      "Summary: TensorFlow is an open source machine learning framework for everyone.\n",
      "Home-page: https://www.tensorflow.org/\n",
      "Author: Google Inc.\n",
      "Author-email: packages@tensorflow.org\n",
      "License: Apache 2.0\n",
      "Location: /Users/ritgirdh/opt/anaconda3/lib/python3.9/site-packages\n",
      "Requires: absl-py, astunparse, flatbuffers, gast, google-pasta, grpcio, h5py, keras, libclang, numpy, opt-einsum, packaging, protobuf, setuptools, six, tensorboard, tensorflow-estimator, tensorflow-io-gcs-filesystem, termcolor, typing-extensions, wrapt\n",
      "Required-by: \n",
      "Note: you may need to restart the kernel to use updated packages.\n"
     ]
    }
   ],
   "source": [
    "pip show tensorflow"
   ]
  },
  {
   "cell_type": "code",
   "execution_count": 146,
   "metadata": {},
   "outputs": [],
   "source": [
    "import pickle\n",
    "import numpy as np"
   ]
  },
  {
   "cell_type": "code",
   "execution_count": 147,
   "metadata": {},
   "outputs": [],
   "source": [
    "# Keras library imports for tokenization and model building\n",
    "from keras_preprocessing.sequence import pad_sequences\n",
    "from keras_preprocessing.text import Tokenizer\n",
    "from keras.models import Sequential, Model\n",
    "from keras.layers import Embedding\n",
    "from keras.layers import Input, Activation, Dense, Permute, Dropout\n",
    "from keras.layers import add, dot, concatenate\n",
    "from keras.layers import LSTM\n",
    "from keras.layers import Embedding"
   ]
  },
  {
   "cell_type": "markdown",
   "metadata": {},
   "source": [
    "Q1. Write code to unpickle the train_qa and test_qa datasets below"
   ]
  },
  {
   "cell_type": "code",
   "execution_count": 148,
   "metadata": {},
   "outputs": [],
   "source": [
    "# Unpickling training and test dataset\n",
    "with open('train_qa.txt', 'rb') as f:\n",
    "    train_data = pickle.load(f)\n",
    "    \n",
    "with open('test_qa.txt', 'rb') as f:\n",
    "    test_data = pickle.load(f)    "
   ]
  },
  {
   "cell_type": "markdown",
   "metadata": {},
   "source": [
    "----"
   ]
  },
  {
   "cell_type": "markdown",
   "metadata": {},
   "source": [
    "## Exploring the Format of the Data"
   ]
  },
  {
   "cell_type": "markdown",
   "metadata": {},
   "source": [
    "Q2. Identify the type of traindata and test data"
   ]
  },
  {
   "cell_type": "code",
   "execution_count": 149,
   "metadata": {},
   "outputs": [
    {
     "data": {
      "text/plain": [
       "list"
      ]
     },
     "execution_count": 149,
     "metadata": {},
     "output_type": "execute_result"
    }
   ],
   "source": [
    "#type of train data\n",
    "type(train_data)"
   ]
  },
  {
   "cell_type": "code",
   "execution_count": 150,
   "metadata": {},
   "outputs": [
    {
     "data": {
      "text/plain": [
       "list"
      ]
     },
     "execution_count": 150,
     "metadata": {},
     "output_type": "execute_result"
    }
   ],
   "source": [
    "#type of test data\n",
    "type(test_data)"
   ]
  },
  {
   "cell_type": "markdown",
   "metadata": {},
   "source": [
    "Q3. Identify the length of test and train data"
   ]
  },
  {
   "cell_type": "code",
   "execution_count": 151,
   "metadata": {},
   "outputs": [
    {
     "data": {
      "text/plain": [
       "10000"
      ]
     },
     "execution_count": 151,
     "metadata": {},
     "output_type": "execute_result"
    }
   ],
   "source": [
    "#length of train data\n",
    "len(train_data)"
   ]
  },
  {
   "cell_type": "code",
   "execution_count": 152,
   "metadata": {},
   "outputs": [
    {
     "data": {
      "text/plain": [
       "1000"
      ]
     },
     "execution_count": 152,
     "metadata": {},
     "output_type": "execute_result"
    }
   ],
   "source": [
    "#length of test data\n",
    "len(test_data)"
   ]
  },
  {
   "cell_type": "markdown",
   "metadata": {},
   "source": [
    "Q4. Print the first record in train data and print the first record as scentences with punctuation marks, separate the question and the answer"
   ]
  },
  {
   "cell_type": "code",
   "execution_count": 153,
   "metadata": {},
   "outputs": [
    {
     "data": {
      "text/plain": [
       "(['Mary',\n",
       "  'moved',\n",
       "  'to',\n",
       "  'the',\n",
       "  'bathroom',\n",
       "  '.',\n",
       "  'Sandra',\n",
       "  'journeyed',\n",
       "  'to',\n",
       "  'the',\n",
       "  'bedroom',\n",
       "  '.'],\n",
       " ['Is', 'Sandra', 'in', 'the', 'hallway', '?'],\n",
       " 'no')"
      ]
     },
     "execution_count": 153,
     "metadata": {},
     "output_type": "execute_result"
    }
   ],
   "source": [
    "# first entry in the train data\n",
    "train_data[0]"
   ]
  },
  {
   "cell_type": "code",
   "execution_count": 154,
   "metadata": {},
   "outputs": [
    {
     "data": {
      "text/plain": [
       "'Is Sandra in the hallway ?'"
      ]
     },
     "execution_count": 154,
     "metadata": {},
     "output_type": "execute_result"
    }
   ],
   "source": [
    "#Separate the question \n",
    "' '.join(train_data[0][1])"
   ]
  },
  {
   "cell_type": "code",
   "execution_count": 155,
   "metadata": {},
   "outputs": [
    {
     "data": {
      "text/plain": [
       "'no'"
      ]
     },
     "execution_count": 155,
     "metadata": {},
     "output_type": "execute_result"
    }
   ],
   "source": [
    "#separate the Answer \n",
    "train_data[0][2]"
   ]
  },
  {
   "cell_type": "markdown",
   "metadata": {},
   "source": [
    "-----\n",
    "\n",
    "## Setting up Vocabulary of All Words"
   ]
  },
  {
   "cell_type": "markdown",
   "metadata": {},
   "source": [
    "Q5. fill the code where ever required"
   ]
  },
  {
   "cell_type": "code",
   "execution_count": 156,
   "metadata": {},
   "outputs": [],
   "source": [
    "vocab = set()"
   ]
  },
  {
   "cell_type": "code",
   "execution_count": 157,
   "metadata": {},
   "outputs": [],
   "source": [
    "#concatenate the train and test data as 'all_data'\n",
    "all_data = test_data + train_data\n",
    "\n",
    "for story, question , answer in all_data:\n",
    "    vocab = vocab.union(set(story))\n",
    "    vocab = vocab.union(set(question))"
   ]
  },
  {
   "cell_type": "code",
   "execution_count": 158,
   "metadata": {},
   "outputs": [],
   "source": [
    "for story, question , answer in all_data:\n",
    "    vocab = vocab.union(set(story))\n",
    "    vocab = vocab.union(set(question))"
   ]
  },
  {
   "cell_type": "code",
   "execution_count": 159,
   "metadata": {},
   "outputs": [],
   "source": [
    "vocab.add('no')\n",
    "vocab.add('yes')"
   ]
  },
  {
   "cell_type": "code",
   "execution_count": 160,
   "metadata": {},
   "outputs": [
    {
     "data": {
      "text/plain": [
       "{'.',\n",
       " '?',\n",
       " 'Daniel',\n",
       " 'Is',\n",
       " 'John',\n",
       " 'Mary',\n",
       " 'Sandra',\n",
       " 'apple',\n",
       " 'back',\n",
       " 'bathroom',\n",
       " 'bedroom',\n",
       " 'discarded',\n",
       " 'down',\n",
       " 'dropped',\n",
       " 'football',\n",
       " 'garden',\n",
       " 'got',\n",
       " 'grabbed',\n",
       " 'hallway',\n",
       " 'in',\n",
       " 'journeyed',\n",
       " 'kitchen',\n",
       " 'left',\n",
       " 'milk',\n",
       " 'moved',\n",
       " 'no',\n",
       " 'office',\n",
       " 'picked',\n",
       " 'put',\n",
       " 'the',\n",
       " 'there',\n",
       " 'to',\n",
       " 'took',\n",
       " 'travelled',\n",
       " 'up',\n",
       " 'went',\n",
       " 'yes'}"
      ]
     },
     "execution_count": 160,
     "metadata": {},
     "output_type": "execute_result"
    }
   ],
   "source": [
    "vocab"
   ]
  },
  {
   "cell_type": "code",
   "execution_count": 161,
   "metadata": {},
   "outputs": [],
   "source": [
    "vocab_len = len(vocab) + 1 #we add an extra space to hold a 0 for Keras's pad_sequences"
   ]
  },
  {
   "cell_type": "code",
   "execution_count": 162,
   "metadata": {},
   "outputs": [
    {
     "data": {
      "text/plain": [
       "38"
      ]
     },
     "execution_count": 162,
     "metadata": {},
     "output_type": "execute_result"
    }
   ],
   "source": [
    "vocab_len"
   ]
  },
  {
   "cell_type": "code",
   "execution_count": 163,
   "metadata": {},
   "outputs": [
    {
     "data": {
      "text/plain": [
       "156"
      ]
     },
     "execution_count": 163,
     "metadata": {},
     "output_type": "execute_result"
    }
   ],
   "source": [
    "# find the maximum story length\n",
    "all_story_lens = [len(data[0]) for data in all_data]\n",
    "max_story_len = (max(all_story_lens))\n",
    "max_story_len"
   ]
  },
  {
   "cell_type": "code",
   "execution_count": 164,
   "metadata": {},
   "outputs": [
    {
     "data": {
      "text/plain": [
       "6"
      ]
     },
     "execution_count": 164,
     "metadata": {},
     "output_type": "execute_result"
    }
   ],
   "source": [
    "# find the maximum question length\n",
    "max_question_len = max([len(data[1]) for data in all_data])\n",
    "max_question_len"
   ]
  },
  {
   "cell_type": "markdown",
   "metadata": {},
   "source": [
    "## Vectorizing the Data"
   ]
  },
  {
   "cell_type": "markdown",
   "metadata": {},
   "source": [
    "Q6 Vectorize and tokenize the data"
   ]
  },
  {
   "cell_type": "code",
   "execution_count": 165,
   "metadata": {},
   "outputs": [],
   "source": [
    "# Reserve 0 for pad_sequences\n",
    "vocab_size = len(vocab) + 1"
   ]
  },
  {
   "cell_type": "markdown",
   "metadata": {},
   "source": [
    "-----------"
   ]
  },
  {
   "cell_type": "code",
   "execution_count": 166,
   "metadata": {},
   "outputs": [],
   "source": [
    "from keras_preprocessing.sequence import pad_sequences\n",
    "from keras_preprocessing.text import Tokenizer"
   ]
  },
  {
   "cell_type": "code",
   "execution_count": 167,
   "metadata": {},
   "outputs": [],
   "source": [
    "# integer encode sequences of words\n",
    "tokenizer = Tokenizer(filters=[])\n",
    "tokenizer.fit_on_texts(vocab)"
   ]
  },
  {
   "cell_type": "code",
   "execution_count": 168,
   "metadata": {},
   "outputs": [
    {
     "data": {
      "text/plain": [
       "{'got': 1,\n",
       " 'to': 2,\n",
       " 'went': 3,\n",
       " 'milk': 4,\n",
       " 'journeyed': 5,\n",
       " 'john': 6,\n",
       " 'is': 7,\n",
       " 'down': 8,\n",
       " 'kitchen': 9,\n",
       " 'garden': 10,\n",
       " 'took': 11,\n",
       " 'bathroom': 12,\n",
       " 'back': 13,\n",
       " '?': 14,\n",
       " 'sandra': 15,\n",
       " 'dropped': 16,\n",
       " 'office': 17,\n",
       " 'football': 18,\n",
       " 'travelled': 19,\n",
       " 'no': 20,\n",
       " 'there': 21,\n",
       " 'yes': 22,\n",
       " 'the': 23,\n",
       " 'left': 24,\n",
       " 'grabbed': 25,\n",
       " 'discarded': 26,\n",
       " 'mary': 27,\n",
       " 'put': 28,\n",
       " 'apple': 29,\n",
       " 'up': 30,\n",
       " 'daniel': 31,\n",
       " 'moved': 32,\n",
       " '.': 33,\n",
       " 'bedroom': 34,\n",
       " 'in': 35,\n",
       " 'picked': 36,\n",
       " 'hallway': 37}"
      ]
     },
     "execution_count": 168,
     "metadata": {},
     "output_type": "execute_result"
    }
   ],
   "source": [
    "word_index = tokenizer.word_index\n",
    "word_index"
   ]
  },
  {
   "cell_type": "code",
   "execution_count": 169,
   "metadata": {},
   "outputs": [],
   "source": [
    "train_story_text = []\n",
    "train_question_text = []\n",
    "train_answers = []\n",
    "\n",
    "for story,question,answer in train_data:\n",
    "    train_story_text.append(story)\n",
    "    train_question_text.append(question)"
   ]
  },
  {
   "cell_type": "code",
   "execution_count": 170,
   "metadata": {},
   "outputs": [],
   "source": [
    "train_story_seq = tokenizer.texts_to_sequences(train_story_text)"
   ]
  },
  {
   "cell_type": "code",
   "execution_count": 171,
   "metadata": {},
   "outputs": [
    {
     "data": {
      "text/plain": [
       "10000"
      ]
     },
     "execution_count": 171,
     "metadata": {},
     "output_type": "execute_result"
    }
   ],
   "source": [
    "len(train_story_text)"
   ]
  },
  {
   "cell_type": "code",
   "execution_count": 172,
   "metadata": {},
   "outputs": [
    {
     "data": {
      "text/plain": [
       "10000"
      ]
     },
     "execution_count": 172,
     "metadata": {},
     "output_type": "execute_result"
    }
   ],
   "source": [
    "len(train_story_seq)"
   ]
  },
  {
   "cell_type": "markdown",
   "metadata": {},
   "source": [
    "### Functionalize Vectorization"
   ]
  },
  {
   "cell_type": "code",
   "execution_count": 173,
   "metadata": {},
   "outputs": [],
   "source": [
    "def vectorize_stories(data, word_index=tokenizer.word_index, max_story_len=max_story_len,max_question_len=max_question_len):\n",
    "    '''\n",
    "    INPUT: \n",
    "    \n",
    "    data: consisting of Stories,Queries,and Answers\n",
    "    word_index: word index dictionary from tokenizer\n",
    "    max_story_len: the length of the longest story (used for pad_sequences function)\n",
    "    max_question_len: length of the longest question (used for pad_sequences function)\n",
    "\n",
    "\n",
    "    OUTPUT:\n",
    "    \n",
    "    Vectorizes the stories,questions, and answers into padded sequences. We first loop for every story, query , and\n",
    "    answer in the data. Then we convert the raw words to an word index value. Then we append each set to their appropriate\n",
    "    output list. Then once we have converted the words to numbers, we pad the sequences so they are all of equal length.\n",
    "    \n",
    "    Returns this in the form of a tuple (X,Xq,Y) (padded based on max lengths)\n",
    "    '''\n",
    "    \n",
    "    \n",
    "    # X = STORIES\n",
    "    X = []\n",
    "    # Xq = QUERY/QUESTION\n",
    "    Xq = []\n",
    "    # Y = CORRECT ANSWER\n",
    "    Y = []\n",
    "    \n",
    "    \n",
    "    for story, query, answer in data:\n",
    "        \n",
    "        # Grab the word index for every word in story\n",
    "        x = [word_index[word.lower()] for word in story]\n",
    "        # Grab the word index for every word in query\n",
    "        xq = [word_index[word.lower()] for word in query]\n",
    "        \n",
    "        # Grab the Answers (either Yes/No so we don't need to use list comprehension here)\n",
    "        # Index 0 is reserved so we're going to use + 1\n",
    "        y = np.zeros(len(word_index) + 1)\n",
    "        \n",
    "        # Now that y is all zeros and we know its just Yes/No , we can use numpy logic to create this assignment\n",
    "        #\n",
    "        y[word_index[answer]] = 1\n",
    "        \n",
    "        # Append each set of story,query, and answer to their respective holding lists\n",
    "        X.append(x)\n",
    "        Xq.append(xq)\n",
    "        Y.append(y)\n",
    "        \n",
    "    # Finally, pad the sequences based on their max length so the RNN can be trained on uniformly long sequences.\n",
    "        \n",
    "    # RETURN TUPLE FOR UNPACKING\n",
    "    return (pad_sequences(X, maxlen=max_story_len),pad_sequences(Xq, maxlen=max_question_len), np.array(Y))"
   ]
  },
  {
   "cell_type": "code",
   "execution_count": 174,
   "metadata": {},
   "outputs": [],
   "source": [
    "inputs_train, queries_train, answers_train = vectorize_stories(train_data)"
   ]
  },
  {
   "cell_type": "code",
   "execution_count": 175,
   "metadata": {},
   "outputs": [],
   "source": [
    "inputs_test, queries_test, answers_test = vectorize_stories(test_data)"
   ]
  },
  {
   "cell_type": "code",
   "execution_count": 176,
   "metadata": {},
   "outputs": [
    {
     "data": {
      "text/plain": [
       "array([[ 0,  0,  0, ..., 23, 34, 33],\n",
       "       [ 0,  0,  0, ..., 23, 10, 33],\n",
       "       [ 0,  0,  0, ..., 23, 10, 33],\n",
       "       ...,\n",
       "       [ 0,  0,  0, ..., 23, 29, 33],\n",
       "       [ 0,  0,  0, ..., 23, 10, 33],\n",
       "       [ 0,  0,  0, ..., 29, 21, 33]], dtype=int32)"
      ]
     },
     "execution_count": 176,
     "metadata": {},
     "output_type": "execute_result"
    }
   ],
   "source": [
    "inputs_test"
   ]
  },
  {
   "cell_type": "code",
   "execution_count": 177,
   "metadata": {},
   "outputs": [
    {
     "data": {
      "text/plain": [
       "array([[ 7,  6, 35, 23,  9, 14],\n",
       "       [ 7,  6, 35, 23,  9, 14],\n",
       "       [ 7,  6, 35, 23, 10, 14],\n",
       "       ...,\n",
       "       [ 7, 27, 35, 23, 34, 14],\n",
       "       [ 7, 15, 35, 23, 10, 14],\n",
       "       [ 7, 27, 35, 23, 10, 14]], dtype=int32)"
      ]
     },
     "execution_count": 177,
     "metadata": {},
     "output_type": "execute_result"
    }
   ],
   "source": [
    "queries_test"
   ]
  },
  {
   "cell_type": "code",
   "execution_count": 178,
   "metadata": {},
   "outputs": [
    {
     "data": {
      "text/plain": [
       "array([[0., 0., 0., ..., 0., 0., 0.],\n",
       "       [0., 0., 0., ..., 0., 0., 0.],\n",
       "       [0., 0., 0., ..., 0., 0., 0.],\n",
       "       ...,\n",
       "       [0., 0., 0., ..., 0., 0., 0.],\n",
       "       [0., 0., 0., ..., 0., 0., 0.],\n",
       "       [0., 0., 0., ..., 0., 0., 0.]])"
      ]
     },
     "execution_count": 178,
     "metadata": {},
     "output_type": "execute_result"
    }
   ],
   "source": [
    "answers_test"
   ]
  },
  {
   "cell_type": "code",
   "execution_count": 179,
   "metadata": {},
   "outputs": [
    {
     "data": {
      "text/plain": [
       "array([  0.,   0.,   0.,   0.,   0.,   0.,   0.,   0.,   0.,   0.,   0.,\n",
       "         0.,   0.,   0.,   0.,   0.,   0.,   0.,   0.,   0., 503.,   0.,\n",
       "       497.,   0.,   0.,   0.,   0.,   0.,   0.,   0.,   0.,   0.,   0.,\n",
       "         0.,   0.,   0.,   0.,   0.])"
      ]
     },
     "execution_count": 179,
     "metadata": {},
     "output_type": "execute_result"
    }
   ],
   "source": [
    "sum(answers_test)"
   ]
  },
  {
   "cell_type": "code",
   "execution_count": 180,
   "metadata": {},
   "outputs": [
    {
     "data": {
      "text/plain": [
       "22"
      ]
     },
     "execution_count": 180,
     "metadata": {},
     "output_type": "execute_result"
    }
   ],
   "source": [
    "tokenizer.word_index['yes']"
   ]
  },
  {
   "cell_type": "code",
   "execution_count": 181,
   "metadata": {},
   "outputs": [
    {
     "data": {
      "text/plain": [
       "20"
      ]
     },
     "execution_count": 181,
     "metadata": {},
     "output_type": "execute_result"
    }
   ],
   "source": [
    "tokenizer.word_index['no']"
   ]
  },
  {
   "cell_type": "markdown",
   "metadata": {},
   "source": [
    "## Creating the Model"
   ]
  },
  {
   "cell_type": "code",
   "execution_count": 182,
   "metadata": {},
   "outputs": [],
   "source": [
    "from keras.models import Sequential, Model\n",
    "from keras.layers import Embedding\n",
    "from keras.layers import Input, Activation, Dense, Permute, Dropout\n",
    "from keras.layers import add, dot, concatenate\n",
    "from keras.layers import LSTM"
   ]
  },
  {
   "cell_type": "markdown",
   "metadata": {},
   "source": [
    "### Placeholders for Inputs\n",
    "\n",
    "Recall we technically have two inputs, stories and questions. So we need to use placeholders. `Input()` is used to instantiate a Keras tensor.\n"
   ]
  },
  {
   "cell_type": "code",
   "execution_count": 183,
   "metadata": {},
   "outputs": [],
   "source": [
    "input_sequence = Input((max_story_len,))\n",
    "question = Input((max_question_len,))"
   ]
  },
  {
   "cell_type": "markdown",
   "metadata": {
    "collapsed": true
   },
   "source": [
    "### Building the Networks\n",
    "\n",
    "To understand why we chose this setup, make sure to read the paper we are using:\n",
    "\n",
    "* Sainbayar Sukhbaatar, Arthur Szlam, Jason Weston, Rob Fergus,\n",
    "  \"End-To-End Memory Networks\",\n",
    "  http://arxiv.org/abs/1503.08895"
   ]
  },
  {
   "cell_type": "markdown",
   "metadata": {},
   "source": [
    "## Encoders\n",
    "Q7 Create the layers as per the instructions given in the problem statement\n",
    "\n",
    "### Input Encoder m"
   ]
  },
  {
   "cell_type": "code",
   "execution_count": 184,
   "metadata": {},
   "outputs": [],
   "source": [
    "#### Input gets embedded to a sequence of vectors\n",
    "input_encoder_m = Sequential()\n",
    "input_encoder_m.add(Embedding(input_dim=vocab_len,output_dim = 64)) #From paper\n",
    "input_encoder_m.add(Dropout(0.3))\n",
    "####This encoder will output:\n",
    "#### (samples, story_maxlen, embedding_dim)"
   ]
  },
  {
   "cell_type": "markdown",
   "metadata": {},
   "source": [
    "### Input Encoder c"
   ]
  },
  {
   "cell_type": "code",
   "execution_count": 185,
   "metadata": {},
   "outputs": [],
   "source": [
    "# embed the input into a sequence of vectors of size query_maxlen\n",
    "# Follow the instructions in the problem statement\n",
    "input_encoder_c = Sequential()\n",
    "input_encoder_c.add(Embedding(input_dim=vocab_len,output_dim = max_question_len)) #From paper\n",
    "input_encoder_c.add(Dropout(0.3))\n",
    "\n",
    "# output: (samples, story_maxlen, query_maxlen)"
   ]
  },
  {
   "cell_type": "markdown",
   "metadata": {},
   "source": [
    "### Question Encoder"
   ]
  },
  {
   "cell_type": "code",
   "execution_count": 186,
   "metadata": {},
   "outputs": [],
   "source": [
    "# embed the question into a sequence of vectors\n",
    "# Follow the instructions in the problem statement\n",
    "# output: (samples, query_maxlen, embedding_dim)\n",
    "question_encoder = Sequential()\n",
    "question_encoder.add(Embedding(input_dim=vocab_len,output_dim = 64,input_length=max_question_len)) #From paper\n",
    "question_encoder.add(Dropout(0.3))"
   ]
  },
  {
   "cell_type": "markdown",
   "metadata": {},
   "source": [
    "### Encode the Sequences"
   ]
  },
  {
   "cell_type": "code",
   "execution_count": 187,
   "metadata": {},
   "outputs": [],
   "source": [
    "# encode input sequence and questions (which are indices)\n",
    "# to sequences of dense vectors\n",
    "input_encoded_m = input_encoder_m(input_sequence)\n",
    "input_encoded_c = input_encoder_c(input_sequence)\n",
    "question_encoded = question_encoder(question)"
   ]
  },
  {
   "cell_type": "markdown",
   "metadata": {},
   "source": [
    "##### Use dot product to compute the match between first input vector seq and the query"
   ]
  },
  {
   "cell_type": "code",
   "execution_count": 188,
   "metadata": {},
   "outputs": [],
   "source": [
    "# shape: `(samples, story_maxlen, query_maxlen)`\n",
    "match = dot([input_encoded_m, question_encoded], axes=(2, 2))\n",
    "match = Activation('softmax')(match)"
   ]
  },
  {
   "cell_type": "markdown",
   "metadata": {},
   "source": [
    "#### Add this match matrix with the second input vector sequence"
   ]
  },
  {
   "cell_type": "code",
   "execution_count": 189,
   "metadata": {},
   "outputs": [],
   "source": [
    "# add the match matrix with the second input vector sequence\n",
    "response = add([match, input_encoded_c])  # (samples, story_maxlen, query_maxlen)\n",
    "response = Permute((2, 1))(response)  # (samples, query_maxlen, story_maxlen)"
   ]
  },
  {
   "cell_type": "markdown",
   "metadata": {},
   "source": [
    "#### Concatenate"
   ]
  },
  {
   "cell_type": "code",
   "execution_count": 190,
   "metadata": {},
   "outputs": [],
   "source": [
    "# concatenate the match matrix with the question vector sequence\n",
    "answer = concatenate([response, question_encoded])"
   ]
  },
  {
   "cell_type": "code",
   "execution_count": 191,
   "metadata": {},
   "outputs": [
    {
     "data": {
      "text/plain": [
       "<KerasTensor: shape=(None, 6, 220) dtype=float32 (created by layer 'concatenate_1')>"
      ]
     },
     "execution_count": 191,
     "metadata": {},
     "output_type": "execute_result"
    }
   ],
   "source": [
    "answer"
   ]
  },
  {
   "cell_type": "code",
   "execution_count": 192,
   "metadata": {},
   "outputs": [],
   "source": [
    "# Reduce with RNN (LSTM)\n",
    "answer = LSTM(32)(answer)  # (samples, 32)"
   ]
  },
  {
   "cell_type": "code",
   "execution_count": 193,
   "metadata": {},
   "outputs": [],
   "source": [
    "# Regularization with Dropout\n",
    "answer = Dropout(0.5)(answer)\n",
    "answer = Dense(vocab_size)(answer)  # (samples, vocab_size)"
   ]
  },
  {
   "cell_type": "code",
   "execution_count": 194,
   "metadata": {},
   "outputs": [],
   "source": [
    "# we output a probability distribution over the vocabulary\n",
    "answer = Activation('softmax')(answer)\n",
    "\n",
    "# build the final model\n",
    "model = Model([input_sequence, question], answer)\n",
    "model.compile(optimizer='rmsprop', loss='categorical_crossentropy',\n",
    "              metrics=['accuracy'])"
   ]
  },
  {
   "cell_type": "code",
   "execution_count": 195,
   "metadata": {},
   "outputs": [
    {
     "name": "stdout",
     "output_type": "stream",
     "text": [
      "Model: \"model_1\"\n",
      "__________________________________________________________________________________________________\n",
      " Layer (type)                   Output Shape         Param #     Connected to                     \n",
      "==================================================================================================\n",
      " input_3 (InputLayer)           [(None, 156)]        0           []                               \n",
      "                                                                                                  \n",
      " input_4 (InputLayer)           [(None, 6)]          0           []                               \n",
      "                                                                                                  \n",
      " sequential_3 (Sequential)      (None, None, 64)     2432        ['input_3[0][0]']                \n",
      "                                                                                                  \n",
      " sequential_5 (Sequential)      (None, 6, 64)        2432        ['input_4[0][0]']                \n",
      "                                                                                                  \n",
      " dot_1 (Dot)                    (None, 156, 6)       0           ['sequential_3[0][0]',           \n",
      "                                                                  'sequential_5[0][0]']           \n",
      "                                                                                                  \n",
      " activation_2 (Activation)      (None, 156, 6)       0           ['dot_1[0][0]']                  \n",
      "                                                                                                  \n",
      " sequential_4 (Sequential)      (None, None, 6)      228         ['input_3[0][0]']                \n",
      "                                                                                                  \n",
      " add_1 (Add)                    (None, 156, 6)       0           ['activation_2[0][0]',           \n",
      "                                                                  'sequential_4[0][0]']           \n",
      "                                                                                                  \n",
      " permute_1 (Permute)            (None, 6, 156)       0           ['add_1[0][0]']                  \n",
      "                                                                                                  \n",
      " concatenate_1 (Concatenate)    (None, 6, 220)       0           ['permute_1[0][0]',              \n",
      "                                                                  'sequential_5[0][0]']           \n",
      "                                                                                                  \n",
      " lstm_1 (LSTM)                  (None, 32)           32384       ['concatenate_1[0][0]']          \n",
      "                                                                                                  \n",
      " dropout_7 (Dropout)            (None, 32)           0           ['lstm_1[0][0]']                 \n",
      "                                                                                                  \n",
      " dense_1 (Dense)                (None, 38)           1254        ['dropout_7[0][0]']              \n",
      "                                                                                                  \n",
      " activation_3 (Activation)      (None, 38)           0           ['dense_1[0][0]']                \n",
      "                                                                                                  \n",
      "==================================================================================================\n",
      "Total params: 38,730\n",
      "Trainable params: 38,730\n",
      "Non-trainable params: 0\n",
      "__________________________________________________________________________________________________\n"
     ]
    }
   ],
   "source": [
    "model.summary()"
   ]
  },
  {
   "cell_type": "code",
   "execution_count": 211,
   "metadata": {},
   "outputs": [
    {
     "name": "stdout",
     "output_type": "stream",
     "text": [
      "Epoch 1/120\n",
      "313/313 [==============================] - 3s 8ms/step - loss: 0.3205 - accuracy: 0.8669 - val_loss: 0.3760 - val_accuracy: 0.8410\n",
      "Epoch 2/120\n",
      "313/313 [==============================] - 3s 8ms/step - loss: 0.3206 - accuracy: 0.8631 - val_loss: 0.3784 - val_accuracy: 0.8260\n",
      "Epoch 3/120\n",
      "313/313 [==============================] - 3s 9ms/step - loss: 0.3180 - accuracy: 0.8691 - val_loss: 0.3833 - val_accuracy: 0.8300\n",
      "Epoch 4/120\n",
      "313/313 [==============================] - 3s 9ms/step - loss: 0.3167 - accuracy: 0.8704 - val_loss: 0.3878 - val_accuracy: 0.8350\n",
      "Epoch 5/120\n",
      "313/313 [==============================] - 3s 9ms/step - loss: 0.3142 - accuracy: 0.8670 - val_loss: 0.3824 - val_accuracy: 0.8370\n",
      "Epoch 6/120\n",
      "313/313 [==============================] - 3s 8ms/step - loss: 0.3116 - accuracy: 0.8729 - val_loss: 0.4026 - val_accuracy: 0.8380\n",
      "Epoch 7/120\n",
      "313/313 [==============================] - 3s 8ms/step - loss: 0.3086 - accuracy: 0.8722 - val_loss: 0.3864 - val_accuracy: 0.8340\n",
      "Epoch 8/120\n",
      "313/313 [==============================] - 3s 9ms/step - loss: 0.3111 - accuracy: 0.8674 - val_loss: 0.3977 - val_accuracy: 0.8240\n",
      "Epoch 9/120\n",
      "313/313 [==============================] - 3s 9ms/step - loss: 0.3082 - accuracy: 0.8671 - val_loss: 0.3798 - val_accuracy: 0.8340\n",
      "Epoch 10/120\n",
      "313/313 [==============================] - 3s 9ms/step - loss: 0.3057 - accuracy: 0.8708 - val_loss: 0.3805 - val_accuracy: 0.8360\n",
      "Epoch 11/120\n",
      "313/313 [==============================] - 3s 8ms/step - loss: 0.3065 - accuracy: 0.8734 - val_loss: 0.3924 - val_accuracy: 0.8300\n",
      "Epoch 12/120\n",
      "313/313 [==============================] - 3s 8ms/step - loss: 0.3003 - accuracy: 0.8726 - val_loss: 0.4026 - val_accuracy: 0.8310\n",
      "Epoch 13/120\n",
      "313/313 [==============================] - 3s 9ms/step - loss: 0.3104 - accuracy: 0.8707 - val_loss: 0.3842 - val_accuracy: 0.8260\n",
      "Epoch 14/120\n",
      "313/313 [==============================] - 2s 8ms/step - loss: 0.2942 - accuracy: 0.8758 - val_loss: 0.4368 - val_accuracy: 0.8290\n",
      "Epoch 15/120\n",
      "313/313 [==============================] - 2s 8ms/step - loss: 0.3014 - accuracy: 0.8734 - val_loss: 0.4197 - val_accuracy: 0.8220\n",
      "Epoch 16/120\n",
      "313/313 [==============================] - 3s 8ms/step - loss: 0.3001 - accuracy: 0.8774 - val_loss: 0.4129 - val_accuracy: 0.8300\n",
      "Epoch 17/120\n",
      "313/313 [==============================] - 3s 9ms/step - loss: 0.3015 - accuracy: 0.8757 - val_loss: 0.3988 - val_accuracy: 0.8310\n",
      "Epoch 18/120\n",
      "313/313 [==============================] - 3s 8ms/step - loss: 0.2970 - accuracy: 0.8745 - val_loss: 0.4148 - val_accuracy: 0.8370\n",
      "Epoch 19/120\n",
      "313/313 [==============================] - 3s 8ms/step - loss: 0.2933 - accuracy: 0.8779 - val_loss: 0.4340 - val_accuracy: 0.8320\n",
      "Epoch 20/120\n",
      "313/313 [==============================] - 3s 8ms/step - loss: 0.2926 - accuracy: 0.8771 - val_loss: 0.4003 - val_accuracy: 0.8320\n",
      "Epoch 21/120\n",
      "313/313 [==============================] - 3s 8ms/step - loss: 0.2970 - accuracy: 0.8746 - val_loss: 0.4163 - val_accuracy: 0.8250\n",
      "Epoch 22/120\n",
      "313/313 [==============================] - 3s 8ms/step - loss: 0.2923 - accuracy: 0.8758 - val_loss: 0.4114 - val_accuracy: 0.8290\n",
      "Epoch 23/120\n",
      "313/313 [==============================] - 3s 8ms/step - loss: 0.2836 - accuracy: 0.8821 - val_loss: 0.4325 - val_accuracy: 0.8310\n",
      "Epoch 24/120\n",
      "313/313 [==============================] - 3s 8ms/step - loss: 0.2883 - accuracy: 0.8786 - val_loss: 0.4104 - val_accuracy: 0.8350\n",
      "Epoch 25/120\n",
      "313/313 [==============================] - 3s 8ms/step - loss: 0.2793 - accuracy: 0.8845 - val_loss: 0.4468 - val_accuracy: 0.8220\n",
      "Epoch 26/120\n",
      "313/313 [==============================] - 2s 8ms/step - loss: 0.2902 - accuracy: 0.8780 - val_loss: 0.4156 - val_accuracy: 0.8350\n",
      "Epoch 27/120\n",
      "313/313 [==============================] - 2s 8ms/step - loss: 0.2841 - accuracy: 0.8814 - val_loss: 0.4303 - val_accuracy: 0.8330\n",
      "Epoch 28/120\n",
      "313/313 [==============================] - 2s 8ms/step - loss: 0.2803 - accuracy: 0.8830 - val_loss: 0.4638 - val_accuracy: 0.8350\n",
      "Epoch 29/120\n",
      "313/313 [==============================] - 2s 8ms/step - loss: 0.2803 - accuracy: 0.8835 - val_loss: 0.4281 - val_accuracy: 0.8400\n",
      "Epoch 30/120\n",
      "313/313 [==============================] - 2s 8ms/step - loss: 0.2748 - accuracy: 0.8813 - val_loss: 0.4400 - val_accuracy: 0.8300\n",
      "Epoch 31/120\n",
      "313/313 [==============================] - 2s 8ms/step - loss: 0.2822 - accuracy: 0.8854 - val_loss: 0.4485 - val_accuracy: 0.8280\n",
      "Epoch 32/120\n",
      "313/313 [==============================] - 2s 8ms/step - loss: 0.2809 - accuracy: 0.8828 - val_loss: 0.4288 - val_accuracy: 0.8360\n",
      "Epoch 33/120\n",
      "313/313 [==============================] - 2s 8ms/step - loss: 0.2821 - accuracy: 0.8856 - val_loss: 0.4148 - val_accuracy: 0.8270\n",
      "Epoch 34/120\n",
      "313/313 [==============================] - 2s 8ms/step - loss: 0.2720 - accuracy: 0.8891 - val_loss: 0.4401 - val_accuracy: 0.8240\n",
      "Epoch 35/120\n",
      "313/313 [==============================] - 2s 8ms/step - loss: 0.2729 - accuracy: 0.8850 - val_loss: 0.4316 - val_accuracy: 0.8310\n",
      "Epoch 36/120\n",
      "313/313 [==============================] - 2s 8ms/step - loss: 0.2812 - accuracy: 0.8850 - val_loss: 0.4283 - val_accuracy: 0.8310\n",
      "Epoch 37/120\n",
      "313/313 [==============================] - 2s 7ms/step - loss: 0.2754 - accuracy: 0.8857 - val_loss: 0.4255 - val_accuracy: 0.8260\n",
      "Epoch 38/120\n",
      "313/313 [==============================] - 2s 7ms/step - loss: 0.2744 - accuracy: 0.8854 - val_loss: 0.4321 - val_accuracy: 0.8310\n",
      "Epoch 39/120\n",
      "313/313 [==============================] - 2s 8ms/step - loss: 0.2711 - accuracy: 0.8866 - val_loss: 0.4166 - val_accuracy: 0.8300\n",
      "Epoch 40/120\n",
      "313/313 [==============================] - 2s 8ms/step - loss: 0.2720 - accuracy: 0.8904 - val_loss: 0.4437 - val_accuracy: 0.8270\n",
      "Epoch 41/120\n",
      "313/313 [==============================] - 2s 8ms/step - loss: 0.2718 - accuracy: 0.8873 - val_loss: 0.4334 - val_accuracy: 0.8380\n",
      "Epoch 42/120\n",
      "313/313 [==============================] - 2s 8ms/step - loss: 0.2702 - accuracy: 0.8902 - val_loss: 0.4384 - val_accuracy: 0.8330\n",
      "Epoch 43/120\n",
      "313/313 [==============================] - 2s 7ms/step - loss: 0.2648 - accuracy: 0.8945 - val_loss: 0.4496 - val_accuracy: 0.8360\n",
      "Epoch 44/120\n",
      "313/313 [==============================] - 2s 8ms/step - loss: 0.2634 - accuracy: 0.8903 - val_loss: 0.4462 - val_accuracy: 0.8260\n",
      "Epoch 45/120\n",
      "313/313 [==============================] - 2s 7ms/step - loss: 0.2644 - accuracy: 0.8914 - val_loss: 0.4593 - val_accuracy: 0.8390\n",
      "Epoch 46/120\n",
      "313/313 [==============================] - 2s 8ms/step - loss: 0.2624 - accuracy: 0.8921 - val_loss: 0.4701 - val_accuracy: 0.8270\n",
      "Epoch 47/120\n",
      "313/313 [==============================] - 2s 8ms/step - loss: 0.2635 - accuracy: 0.8904 - val_loss: 0.4717 - val_accuracy: 0.8310\n",
      "Epoch 48/120\n",
      "313/313 [==============================] - 2s 8ms/step - loss: 0.2659 - accuracy: 0.8899 - val_loss: 0.4534 - val_accuracy: 0.8360\n",
      "Epoch 49/120\n",
      "313/313 [==============================] - 2s 8ms/step - loss: 0.2605 - accuracy: 0.8907 - val_loss: 0.4255 - val_accuracy: 0.8370\n",
      "Epoch 50/120\n",
      "313/313 [==============================] - 2s 7ms/step - loss: 0.2629 - accuracy: 0.8909 - val_loss: 0.4642 - val_accuracy: 0.8290\n",
      "Epoch 51/120\n",
      "313/313 [==============================] - 2s 8ms/step - loss: 0.2572 - accuracy: 0.8948 - val_loss: 0.4559 - val_accuracy: 0.8280\n",
      "Epoch 52/120\n",
      "313/313 [==============================] - 2s 8ms/step - loss: 0.2585 - accuracy: 0.8946 - val_loss: 0.4679 - val_accuracy: 0.8300\n",
      "Epoch 53/120\n",
      "313/313 [==============================] - 2s 8ms/step - loss: 0.2594 - accuracy: 0.8916 - val_loss: 0.4644 - val_accuracy: 0.8240\n",
      "Epoch 54/120\n",
      "313/313 [==============================] - 3s 9ms/step - loss: 0.2590 - accuracy: 0.8944 - val_loss: 0.4611 - val_accuracy: 0.8220\n",
      "Epoch 55/120\n",
      "313/313 [==============================] - 3s 9ms/step - loss: 0.2530 - accuracy: 0.8955 - val_loss: 0.4781 - val_accuracy: 0.8280\n",
      "Epoch 56/120\n",
      "313/313 [==============================] - 2s 8ms/step - loss: 0.2514 - accuracy: 0.8977 - val_loss: 0.4669 - val_accuracy: 0.8290\n",
      "Epoch 57/120\n",
      "313/313 [==============================] - 2s 8ms/step - loss: 0.2520 - accuracy: 0.8980 - val_loss: 0.4650 - val_accuracy: 0.8240\n"
     ]
    },
    {
     "name": "stdout",
     "output_type": "stream",
     "text": [
      "Epoch 58/120\n",
      "313/313 [==============================] - 2s 8ms/step - loss: 0.2509 - accuracy: 0.8950 - val_loss: 0.4831 - val_accuracy: 0.8310\n",
      "Epoch 59/120\n",
      "313/313 [==============================] - 2s 8ms/step - loss: 0.2502 - accuracy: 0.8976 - val_loss: 0.4460 - val_accuracy: 0.8280\n",
      "Epoch 60/120\n",
      "313/313 [==============================] - 2s 8ms/step - loss: 0.2496 - accuracy: 0.8991 - val_loss: 0.5035 - val_accuracy: 0.8310\n",
      "Epoch 61/120\n",
      "313/313 [==============================] - 2s 8ms/step - loss: 0.2443 - accuracy: 0.8993 - val_loss: 0.4860 - val_accuracy: 0.8210\n",
      "Epoch 62/120\n",
      "313/313 [==============================] - 2s 8ms/step - loss: 0.2550 - accuracy: 0.8976 - val_loss: 0.5087 - val_accuracy: 0.8250\n",
      "Epoch 63/120\n",
      "313/313 [==============================] - 2s 7ms/step - loss: 0.2467 - accuracy: 0.9001 - val_loss: 0.5186 - val_accuracy: 0.8270\n",
      "Epoch 64/120\n",
      "313/313 [==============================] - 2s 7ms/step - loss: 0.2513 - accuracy: 0.8970 - val_loss: 0.4722 - val_accuracy: 0.8240\n",
      "Epoch 65/120\n",
      "313/313 [==============================] - 2s 8ms/step - loss: 0.2478 - accuracy: 0.8982 - val_loss: 0.5067 - val_accuracy: 0.8270\n",
      "Epoch 66/120\n",
      "313/313 [==============================] - 2s 8ms/step - loss: 0.2493 - accuracy: 0.8991 - val_loss: 0.4941 - val_accuracy: 0.8290\n",
      "Epoch 67/120\n",
      "313/313 [==============================] - 2s 8ms/step - loss: 0.2437 - accuracy: 0.8997 - val_loss: 0.4939 - val_accuracy: 0.8270\n",
      "Epoch 68/120\n",
      "313/313 [==============================] - 2s 8ms/step - loss: 0.2419 - accuracy: 0.9034 - val_loss: 0.4877 - val_accuracy: 0.8180\n",
      "Epoch 69/120\n",
      "313/313 [==============================] - 3s 9ms/step - loss: 0.2422 - accuracy: 0.9006 - val_loss: 0.4679 - val_accuracy: 0.8180\n",
      "Epoch 70/120\n",
      "313/313 [==============================] - 2s 8ms/step - loss: 0.2417 - accuracy: 0.9020 - val_loss: 0.4835 - val_accuracy: 0.8240\n",
      "Epoch 71/120\n",
      "313/313 [==============================] - 3s 9ms/step - loss: 0.2381 - accuracy: 0.9012 - val_loss: 0.5139 - val_accuracy: 0.8190\n",
      "Epoch 72/120\n",
      "313/313 [==============================] - 2s 8ms/step - loss: 0.2400 - accuracy: 0.9040 - val_loss: 0.5198 - val_accuracy: 0.8230\n",
      "Epoch 73/120\n",
      "313/313 [==============================] - 2s 8ms/step - loss: 0.2437 - accuracy: 0.8997 - val_loss: 0.4827 - val_accuracy: 0.8210\n",
      "Epoch 74/120\n",
      "313/313 [==============================] - 2s 8ms/step - loss: 0.2418 - accuracy: 0.9006 - val_loss: 0.4739 - val_accuracy: 0.8210\n",
      "Epoch 75/120\n",
      "313/313 [==============================] - 2s 8ms/step - loss: 0.2395 - accuracy: 0.9002 - val_loss: 0.5137 - val_accuracy: 0.8310\n",
      "Epoch 76/120\n",
      "313/313 [==============================] - 2s 7ms/step - loss: 0.2387 - accuracy: 0.9078 - val_loss: 0.4918 - val_accuracy: 0.8250\n",
      "Epoch 77/120\n",
      "313/313 [==============================] - 2s 8ms/step - loss: 0.2348 - accuracy: 0.9046 - val_loss: 0.5215 - val_accuracy: 0.8220\n",
      "Epoch 78/120\n",
      "313/313 [==============================] - 2s 8ms/step - loss: 0.2367 - accuracy: 0.9070 - val_loss: 0.4773 - val_accuracy: 0.8250\n",
      "Epoch 79/120\n",
      "313/313 [==============================] - 2s 8ms/step - loss: 0.2381 - accuracy: 0.9059 - val_loss: 0.4896 - val_accuracy: 0.8220\n",
      "Epoch 80/120\n",
      "313/313 [==============================] - 2s 8ms/step - loss: 0.2239 - accuracy: 0.9092 - val_loss: 0.5065 - val_accuracy: 0.8280\n",
      "Epoch 81/120\n",
      "313/313 [==============================] - 2s 8ms/step - loss: 0.2313 - accuracy: 0.9078 - val_loss: 0.5097 - val_accuracy: 0.8200\n",
      "Epoch 82/120\n",
      "313/313 [==============================] - 3s 8ms/step - loss: 0.2318 - accuracy: 0.9032 - val_loss: 0.4990 - val_accuracy: 0.8220\n",
      "Epoch 83/120\n",
      "313/313 [==============================] - 3s 10ms/step - loss: 0.2340 - accuracy: 0.9065 - val_loss: 0.5332 - val_accuracy: 0.8260\n",
      "Epoch 84/120\n",
      "313/313 [==============================] - 3s 10ms/step - loss: 0.2328 - accuracy: 0.9078 - val_loss: 0.4891 - val_accuracy: 0.8220\n",
      "Epoch 85/120\n",
      "313/313 [==============================] - 3s 9ms/step - loss: 0.2322 - accuracy: 0.9063 - val_loss: 0.4987 - val_accuracy: 0.8190\n",
      "Epoch 86/120\n",
      "313/313 [==============================] - 2s 8ms/step - loss: 0.2250 - accuracy: 0.9057 - val_loss: 0.5211 - val_accuracy: 0.8250\n",
      "Epoch 87/120\n",
      "313/313 [==============================] - 2s 8ms/step - loss: 0.2318 - accuracy: 0.9080 - val_loss: 0.5006 - val_accuracy: 0.8190\n",
      "Epoch 88/120\n",
      "313/313 [==============================] - 3s 8ms/step - loss: 0.2290 - accuracy: 0.9066 - val_loss: 0.5218 - val_accuracy: 0.8250\n",
      "Epoch 89/120\n",
      "313/313 [==============================] - 2s 8ms/step - loss: 0.2352 - accuracy: 0.9052 - val_loss: 0.4982 - val_accuracy: 0.8210\n",
      "Epoch 90/120\n",
      "313/313 [==============================] - 3s 8ms/step - loss: 0.2284 - accuracy: 0.9090 - val_loss: 0.5133 - val_accuracy: 0.8190\n",
      "Epoch 91/120\n",
      "313/313 [==============================] - 2s 8ms/step - loss: 0.2238 - accuracy: 0.9139 - val_loss: 0.5158 - val_accuracy: 0.8240\n",
      "Epoch 92/120\n",
      "313/313 [==============================] - 3s 8ms/step - loss: 0.2290 - accuracy: 0.9088 - val_loss: 0.5164 - val_accuracy: 0.8340\n",
      "Epoch 93/120\n",
      "313/313 [==============================] - 3s 8ms/step - loss: 0.2194 - accuracy: 0.9142 - val_loss: 0.5147 - val_accuracy: 0.8260\n",
      "Epoch 94/120\n",
      "313/313 [==============================] - 2s 8ms/step - loss: 0.2251 - accuracy: 0.9108 - val_loss: 0.5258 - val_accuracy: 0.8180\n",
      "Epoch 95/120\n",
      "313/313 [==============================] - 2s 8ms/step - loss: 0.2250 - accuracy: 0.9098 - val_loss: 0.5252 - val_accuracy: 0.8170\n",
      "Epoch 96/120\n",
      "313/313 [==============================] - 3s 9ms/step - loss: 0.2127 - accuracy: 0.9159 - val_loss: 0.5204 - val_accuracy: 0.8240\n",
      "Epoch 97/120\n",
      "313/313 [==============================] - 2s 8ms/step - loss: 0.2251 - accuracy: 0.9115 - val_loss: 0.4938 - val_accuracy: 0.8240\n",
      "Epoch 98/120\n",
      "313/313 [==============================] - 2s 8ms/step - loss: 0.2192 - accuracy: 0.9130 - val_loss: 0.5259 - val_accuracy: 0.8240\n",
      "Epoch 99/120\n",
      "313/313 [==============================] - 3s 8ms/step - loss: 0.2138 - accuracy: 0.9136 - val_loss: 0.5267 - val_accuracy: 0.8280\n",
      "Epoch 100/120\n",
      "313/313 [==============================] - 2s 8ms/step - loss: 0.2217 - accuracy: 0.9138 - val_loss: 0.5373 - val_accuracy: 0.8120\n",
      "Epoch 101/120\n",
      "313/313 [==============================] - 2s 8ms/step - loss: 0.2111 - accuracy: 0.9131 - val_loss: 0.5378 - val_accuracy: 0.8260\n",
      "Epoch 102/120\n",
      "313/313 [==============================] - 2s 7ms/step - loss: 0.2064 - accuracy: 0.9181 - val_loss: 0.4983 - val_accuracy: 0.8150\n",
      "Epoch 103/120\n",
      "313/313 [==============================] - 2s 8ms/step - loss: 0.2140 - accuracy: 0.9138 - val_loss: 0.5035 - val_accuracy: 0.8280\n",
      "Epoch 104/120\n",
      "313/313 [==============================] - 2s 8ms/step - loss: 0.2185 - accuracy: 0.9153 - val_loss: 0.5112 - val_accuracy: 0.8290\n",
      "Epoch 105/120\n",
      "313/313 [==============================] - 2s 7ms/step - loss: 0.2087 - accuracy: 0.9149 - val_loss: 0.5678 - val_accuracy: 0.8230\n",
      "Epoch 106/120\n",
      "313/313 [==============================] - 2s 8ms/step - loss: 0.2172 - accuracy: 0.9129 - val_loss: 0.5272 - val_accuracy: 0.8270\n",
      "Epoch 107/120\n",
      "313/313 [==============================] - 2s 8ms/step - loss: 0.2094 - accuracy: 0.9159 - val_loss: 0.5600 - val_accuracy: 0.8240\n",
      "Epoch 108/120\n",
      "313/313 [==============================] - 3s 8ms/step - loss: 0.2078 - accuracy: 0.9163 - val_loss: 0.5060 - val_accuracy: 0.8200\n",
      "Epoch 109/120\n",
      "313/313 [==============================] - 3s 9ms/step - loss: 0.2093 - accuracy: 0.9161 - val_loss: 0.5263 - val_accuracy: 0.8240\n",
      "Epoch 110/120\n",
      "313/313 [==============================] - 3s 8ms/step - loss: 0.2161 - accuracy: 0.9140 - val_loss: 0.5194 - val_accuracy: 0.8210\n",
      "Epoch 111/120\n",
      "313/313 [==============================] - 2s 8ms/step - loss: 0.2146 - accuracy: 0.9158 - val_loss: 0.4928 - val_accuracy: 0.8220\n",
      "Epoch 112/120\n",
      "313/313 [==============================] - 3s 8ms/step - loss: 0.2147 - accuracy: 0.9120 - val_loss: 0.5229 - val_accuracy: 0.8230\n",
      "Epoch 113/120\n",
      "313/313 [==============================] - 3s 9ms/step - loss: 0.2069 - accuracy: 0.9191 - val_loss: 0.5404 - val_accuracy: 0.8170\n",
      "Epoch 114/120\n",
      "313/313 [==============================] - 3s 8ms/step - loss: 0.2105 - accuracy: 0.9157 - val_loss: 0.5347 - val_accuracy: 0.8260\n"
     ]
    },
    {
     "name": "stdout",
     "output_type": "stream",
     "text": [
      "Epoch 115/120\n",
      "313/313 [==============================] - 3s 8ms/step - loss: 0.2067 - accuracy: 0.9202 - val_loss: 0.5547 - val_accuracy: 0.8160\n",
      "Epoch 116/120\n",
      "313/313 [==============================] - 3s 9ms/step - loss: 0.2113 - accuracy: 0.9155 - val_loss: 0.5106 - val_accuracy: 0.8130\n",
      "Epoch 117/120\n",
      "313/313 [==============================] - 3s 9ms/step - loss: 0.2061 - accuracy: 0.9181 - val_loss: 0.5828 - val_accuracy: 0.8190\n",
      "Epoch 118/120\n",
      "313/313 [==============================] - 3s 9ms/step - loss: 0.2096 - accuracy: 0.9175 - val_loss: 0.5245 - val_accuracy: 0.8190\n",
      "Epoch 119/120\n",
      "313/313 [==============================] - 3s 9ms/step - loss: 0.2011 - accuracy: 0.9144 - val_loss: 0.5520 - val_accuracy: 0.8230\n",
      "Epoch 120/120\n",
      "313/313 [==============================] - 3s 10ms/step - loss: 0.2064 - accuracy: 0.9169 - val_loss: 0.5307 - val_accuracy: 0.8200\n"
     ]
    }
   ],
   "source": [
    "# train\n",
    "history = model.fit([inputs_train, queries_train], answers_train,batch_size=32,epochs=120,validation_data=([inputs_test, queries_test], answers_test))"
   ]
  },
  {
   "cell_type": "markdown",
   "metadata": {},
   "source": [
    "### Saving the Model"
   ]
  },
  {
   "cell_type": "code",
   "execution_count": 212,
   "metadata": {},
   "outputs": [],
   "source": [
    "filename = 'chatbot_120_epochs.h5'\n",
    "model.save(filename)"
   ]
  },
  {
   "cell_type": "markdown",
   "metadata": {},
   "source": [
    "## Evaluating the Model\n",
    "\n",
    "### Plotting Out Training History"
   ]
  },
  {
   "cell_type": "markdown",
   "metadata": {},
   "source": [
    "Q8 Write your code to plot the training history"
   ]
  },
  {
   "cell_type": "code",
   "execution_count": 213,
   "metadata": {},
   "outputs": [
    {
     "name": "stdout",
     "output_type": "stream",
     "text": [
      "dict_keys(['loss', 'accuracy', 'val_loss', 'val_accuracy'])\n"
     ]
    },
    {
     "data": {
      "image/png": "[encoded data removed]",
      "text/plain": [
       "<Figure size 1440x1440 with 1 Axes>"
      ]
     },
     "metadata": {
      "needs_background": "light"
     },
     "output_type": "display_data"
    }
   ],
   "source": [
    "import matplotlib.pyplot as plt\n",
    "%matplotlib inline\n",
    "print(history.history.keys())\n",
    "plt.figure(figsize=(20,20))\n",
    "plt.plot(history.history['accuracy'])\n",
    "plt.plot(history.history['val_accuracy'])\n",
    "plt.title('model accuracy')\n",
    "plt.ylabel('accuracy')\n",
    "plt.xlabel('epoch')\n",
    "plt.legend(['train', 'test'], loc='lower right')\n",
    "plt.show()"
   ]
  },
  {
   "cell_type": "markdown",
   "metadata": {},
   "source": [
    "### Evaluating on Given Test Set"
   ]
  },
  {
   "cell_type": "code",
   "execution_count": 214,
   "metadata": {},
   "outputs": [
    {
     "name": "stdout",
     "output_type": "stream",
     "text": [
      "32/32 [==============================] - 0s 3ms/step\n"
     ]
    }
   ],
   "source": [
    "model.load_weights(filename)\n",
    "pred_results = model.predict(([inputs_test, queries_test]))"
   ]
  },
  {
   "cell_type": "code",
   "execution_count": 215,
   "metadata": {},
   "outputs": [
    {
     "data": {
      "text/plain": [
       "['Mary',\n",
       " 'got',\n",
       " 'the',\n",
       " 'milk',\n",
       " 'there',\n",
       " '.',\n",
       " 'John',\n",
       " 'moved',\n",
       " 'to',\n",
       " 'the',\n",
       " 'bedroom',\n",
       " '.']"
      ]
     },
     "execution_count": 215,
     "metadata": {},
     "output_type": "execute_result"
    }
   ],
   "source": [
    "test_data[0][0]"
   ]
  },
  {
   "cell_type": "code",
   "execution_count": 216,
   "metadata": {},
   "outputs": [
    {
     "name": "stdout",
     "output_type": "stream",
     "text": [
      "Mary got the milk there . John moved to the bedroom .\n"
     ]
    }
   ],
   "source": [
    "story =' '.join(word for word in test_data[0][0])\n",
    "print(story)"
   ]
  },
  {
   "cell_type": "code",
   "execution_count": 217,
   "metadata": {},
   "outputs": [
    {
     "name": "stdout",
     "output_type": "stream",
     "text": [
      "Is John in the kitchen ?\n"
     ]
    }
   ],
   "source": [
    "query = ' '.join(word for word in test_data[0][1])\n",
    "print(query)"
   ]
  },
  {
   "cell_type": "code",
   "execution_count": 218,
   "metadata": {},
   "outputs": [
    {
     "name": "stdout",
     "output_type": "stream",
     "text": [
      "True Test Answer from Data is: no\n"
     ]
    }
   ],
   "source": [
    "print(\"True Test Answer from Data is:\",test_data[0][2])"
   ]
  },
  {
   "cell_type": "code",
   "execution_count": 219,
   "metadata": {},
   "outputs": [
    {
     "name": "stdout",
     "output_type": "stream",
     "text": [
      "Predicted answer is:  no\n",
      "Probability of certainty was:  0.9776494\n"
     ]
    }
   ],
   "source": [
    "#Generate prediction from model\n",
    "val_max = np.argmax(pred_results[0])\n",
    "\n",
    "for key, val in tokenizer.word_index.items():\n",
    "    if val == val_max:\n",
    "        k = key\n",
    "\n",
    "print(\"Predicted answer is: \", k)\n",
    "print(\"Probability of certainty was: \", pred_results[0][val_max])"
   ]
  },
  {
   "cell_type": "markdown",
   "metadata": {},
   "source": [
    "## Writing Your Own Stories and Questions\n",
    "\n",
    "Remember you can only use words from the existing vocab"
   ]
  },
  {
   "cell_type": "markdown",
   "metadata": {},
   "source": [
    "Q8 use the model for predicting the given strory and question given in the problem statement"
   ]
  },
  {
   "cell_type": "code",
   "execution_count": 220,
   "metadata": {},
   "outputs": [
    {
     "name": "stdout",
     "output_type": "stream",
     "text": [
      "1/1 [==============================] - 0s 21ms/step\n"
     ]
    }
   ],
   "source": [
    "q8_story=\"Daniel went up to bedroom . John dropped the football in the Kitchen .\"\n",
    "\n",
    "q8_ask=\"Is the football in the Kitchen ?\"\n",
    "\n",
    "ask_data = [(q8_story.split(), q8_ask.split(),'no')]\n",
    "\n",
    "ask_story, ask_ques, ask_ans = vectorize_stories(ask_data)\n",
    "\n",
    "pred_results = model.predict(([ask_story,ask_ques]))\n",
    "val_max = np.argmax(pred_results[0])"
   ]
  },
  {
   "cell_type": "code",
   "execution_count": 221,
   "metadata": {},
   "outputs": [
    {
     "name": "stdout",
     "output_type": "stream",
     "text": [
      "yes\n"
     ]
    }
   ],
   "source": [
    "#Correct prediction!\n",
    "for key,val in tokenizer.word_index.items():\n",
    "    if val == val_max:\n",
    "        k = key\n",
    "print(k)"
   ]
  },
  {
   "cell_type": "code",
   "execution_count": 222,
   "metadata": {},
   "outputs": [
    {
     "data": {
      "text/plain": [
       "0.92799735"
      ]
     },
     "execution_count": 222,
     "metadata": {},
     "output_type": "execute_result"
    }
   ],
   "source": [
    "pred_results[0][val_max]"
   ]
  },
  {
   "cell_type": "markdown",
   "metadata": {},
   "source": [
    "# Thank you!"
   ]
  },
  {
   "cell_type": "code",
   "execution_count": null,
   "metadata": {},
   "outputs": [],
   "source": []
  }
 ],
 "metadata": {
  "kernelspec": {
   "display_name": "Python 3 (ipykernel)",
   "language": "python",
   "name": "python3"
  },
  "language_info": {
   "codemirror_mode": {
    "name": "ipython",
    "version": 3
   },
   "file_extension": ".py",
   "mimetype": "text/x-python",
   "name": "python",
   "nbconvert_exporter": "python",
   "pygments_lexer": "ipython3",
   "version": "3.9.7"
  }
 },
 "nbformat": 4,
 "nbformat_minor": 2
}
